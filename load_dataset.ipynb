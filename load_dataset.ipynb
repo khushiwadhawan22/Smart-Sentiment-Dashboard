{
 "cells": [
  {
   "cell_type": "code",
   "execution_count": 1,
   "id": "c197c31e-a880-4389-bf32-3d00920eab7f",
   "metadata": {},
   "outputs": [
    {
     "name": "stderr",
     "output_type": "stream",
     "text": [
      "[nltk_data] Downloading package stopwords to C:\\Users\\Khushi\n",
      "[nltk_data]     Wadhawan\\AppData\\Roaming\\nltk_data...\n",
      "[nltk_data]   Package stopwords is already up-to-date!\n"
     ]
    }
   ],
   "source": [
    "import pandas as pd\n",
    "import numpy as np\n",
    "import re\n",
    "import nltk\n",
    "from textblob import TextBlob\n",
    "from collections import Counter\n",
    "from nltk.corpus import stopwords\n",
    "\n",
    "nltk.download('stopwords')\n",
    "stop_words = set(stopwords.words('english'))\n",
    "def clean_text(text):\n",
    "    text = text.lower()\n",
    "    text = re.sub(r\"http\\S+|www\\S+\", \"\", text)\n",
    "    text = re.sub(r\"[^a-zA-Z\\s]\", \"\", text)\n",
    "    text = re.sub(r\"\\s+\", \" \", text).strip()\n",
    "    return \" \".join([word for word in text.split() if word not in stop_words])\n",
    "\n",
    "def get_sentiment(text):\n",
    "    text = text.lower()\n",
    "    if any(word in text for word in ['hate', 'toxic', 'worst', 'awful', 'horrible', 'fired', 'bully', 'workload', 'stress', 'burnout']):\n",
    "        return \"Negative\"\n",
    "    if any(word in text for word in ['love', 'excellent', 'great', 'fantastic', 'amazing', 'supportive', 'like']):\n",
    "        return \"Positive\"\n",
    "    polarity = TextBlob(text).sentiment.polarity\n",
    "    if polarity >= 0.15:\n",
    "        return \"Positive\"\n",
    "    elif polarity <= -0.15:\n",
    "        return \"Negative\"\n",
    "    else:\n",
    "        return \"Neutral\"\n",
    "df = pd.read_csv(\"employee_feedbacks.csv\", encoding='latin1')\n",
    "df['summary'] = df['summary'].fillna('')\n",
    "df['cleaned_summary'] = df['summary'].apply(clean_text)\n",
    "df['Sentiment'] = df['cleaned_summary'].apply(get_sentiment)\n",
    "supervised_df = df[['cleaned_summary', 'Sentiment']]\n",
    "supervised_df.to_csv(\"supervised_employee_feedback.csv\", index=False, encoding='latin1')"
   ]
  },
  {
   "cell_type": "code",
   "execution_count": null,
   "id": "7974d34f-ab58-4d5b-824b-4382ce002739",
   "metadata": {},
   "outputs": [],
   "source": []
  }
 ],
 "metadata": {
  "kernelspec": {
   "display_name": "Python 3 (ipykernel)",
   "language": "python",
   "name": "python3"
  },
  "language_info": {
   "codemirror_mode": {
    "name": "ipython",
    "version": 3
   },
   "file_extension": ".py",
   "mimetype": "text/x-python",
   "name": "python",
   "nbconvert_exporter": "python",
   "pygments_lexer": "ipython3",
   "version": "3.11.2"
  }
 },
 "nbformat": 4,
 "nbformat_minor": 5
}
